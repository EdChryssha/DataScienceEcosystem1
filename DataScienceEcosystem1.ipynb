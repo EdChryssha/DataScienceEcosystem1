{
  "metadata": {
    "kernelspec": {
      "name": "python",
      "display_name": "Python (Pyodide)",
      "language": "python"
    },
    "language_info": {
      "codemirror_mode": {
        "name": "python",
        "version": 3
      },
      "file_extension": ".py",
      "mimetype": "text/x-python",
      "name": "python",
      "nbconvert_exporter": "python",
      "pygments_lexer": "ipython3",
      "version": "3.8"
    }
  },
  "nbformat_minor": 5,
  "nbformat": 4,
  "cells": [
    {
      "id": "9ec68cc2-e009-4cc3-b6af-4ad5c67d84f5",
      "cell_type": "markdown",
      "source": "# Data Science Tools and Ecosystem",
      "metadata": {}
    },
    {
      "id": "6f825702-4542-4360-b0fe-5708bc0d17fb",
      "cell_type": "markdown",
      "source": "In this notebook, Data Science Tools and Ecosystem are summarized. ",
      "metadata": {}
    },
    {
      "id": "6664b0cc-0ac7-4080-a516-c3f7938a92b8",
      "cell_type": "markdown",
      "source": "Some of the popular languages that Data Scientists use are:\n1. Python \n2. R\n3. SQL\n4. C++\n5. Java etc..;",
      "metadata": {}
    },
    {
      "id": "7e234489-2c84-48ee-8c63-abe1836723de",
      "cell_type": "markdown",
      "source": "Some of the commonly used libraries used by Data Scientists include:\n1. Tensorflow.\n2. NumpPy.\n3. SciPy.\n4. Pandas.\n5. Matplotlib.\n6. Keras.\n7. SciKit-Learn.\n8. PyTorch. etc..;",
      "metadata": {}
    },
    {
      "id": "f92b27d2-5c21-4d9f-a7ec-d3b6b1c9968f",
      "cell_type": "markdown",
      "source": "|Data Science Tools|\n|---|\n|SAS|\n|Apache Hadoop|\n|TensorFlow|",
      "metadata": {}
    },
    {
      "id": "41fe2a11-9a18-4565-8770-c3a614c8b206",
      "cell_type": "markdown",
      "source": "### Below are a few examples of evaluating arithmetic expressions in Python.",
      "metadata": {}
    },
    {
      "id": "01b95328-0c94-49e0-b3cc-12034b69c4b5",
      "cell_type": "code",
      "source": "#this is a common arithmetic example to multiply and then add integers\n(3*4)+5",
      "metadata": {
        "trusted": true
      },
      "outputs": [
        {
          "execution_count": 5,
          "output_type": "execute_result",
          "data": {
            "text/plain": "17"
          },
          "metadata": {}
        }
      ],
      "execution_count": 5
    },
    {
      "id": "b7f49d5c-fb10-40ab-9287-0f7d180a0d17",
      "cell_type": "code",
      "source": "#This will convert 200 minutes to hours by dividing by 60\n200/60",
      "metadata": {
        "trusted": true
      },
      "outputs": [
        {
          "execution_count": 6,
          "output_type": "execute_result",
          "data": {
            "text/plain": "3.3333333333333335"
          },
          "metadata": {}
        }
      ],
      "execution_count": 6
    },
    {
      "id": "869c2ce1-9c0c-4fd8-8851-d8397d51eec3",
      "cell_type": "markdown",
      "source": "__Objective__\n* List popular languages for Data Science\n* List popular libraries for Data Science\n* List of Well known Data Science Tools\n* How to Provide comments in the cell",
      "metadata": {}
    },
    {
      "id": "b71581b3-efe9-4384-a28f-fc26ef69a812",
      "cell_type": "markdown",
      "source": "## Author\nEd Chryssha Cordero ",
      "metadata": {}
    }
  ]
}